{
 "cells": [
  {
   "cell_type": "code",
   "execution_count": 1,
   "metadata": {},
   "outputs": [
    {
     "name": "stdout",
     "output_type": "stream",
     "text": [
      " * Serving Flask app \"__main__\" (lazy loading)\n",
      " * Environment: production\n",
      "   WARNING: Do not use the development server in a production environment.\n",
      "   Use a production WSGI server instead.\n",
      " * Debug mode: off\n"
     ]
    },
    {
     "name": "stderr",
     "output_type": "stream",
     "text": [
      " * Running on http://127.0.0.1:8050/ (Press CTRL+C to quit)\n",
      "127.0.0.1 - - [09/Dec/2019 17:52:04] \"\u001b[37mGET / HTTP/1.1\u001b[0m\" 200 -\n",
      "127.0.0.1 - - [09/Dec/2019 17:52:04] \"\u001b[37mGET /_dash-component-suites/dash_renderer/react@16.8.6.min.js?v=1.0.0&m=1561062262 HTTP/1.1\u001b[0m\" 200 -\n",
      "127.0.0.1 - - [09/Dec/2019 17:52:04] \"\u001b[37mGET /_dash-component-suites/dash_renderer/prop-types@15.7.2.min.js?v=1.0.0&m=1561062262 HTTP/1.1\u001b[0m\" 200 -\n",
      "127.0.0.1 - - [09/Dec/2019 17:52:04] \"\u001b[37mGET /_dash-component-suites/dash_renderer/react-dom@16.8.6.min.js?v=1.0.0&m=1561062262 HTTP/1.1\u001b[0m\" 200 -\n",
      "127.0.0.1 - - [09/Dec/2019 17:52:04] \"\u001b[37mGET /_dash-component-suites/dash_core_components/highlight.pack.js?v=1.0.0&m=1563307603 HTTP/1.1\u001b[0m\" 200 -\n",
      "127.0.0.1 - - [09/Dec/2019 17:52:04] \"\u001b[37mGET /_dash-component-suites/dash_bootstrap_components/_components/dash_bootstrap_components.min.js?v=0.7.1&m=1568971817 HTTP/1.1\u001b[0m\" 200 -\n",
      "127.0.0.1 - - [09/Dec/2019 17:52:04] \"\u001b[37mGET /_dash-component-suites/dash_html_components/dash_html_components.min.js?v=1.0.0&m=1561063963 HTTP/1.1\u001b[0m\" 200 -\n",
      "127.0.0.1 - - [09/Dec/2019 17:52:04] \"\u001b[37mGET /_dash-component-suites/dash_renderer/dash_renderer.min.js?v=1.0.0&m=1561062262 HTTP/1.1\u001b[0m\" 200 -\n",
      "127.0.0.1 - - [09/Dec/2019 17:52:04] \"\u001b[37mGET /_dash-component-suites/dash_table/bundle.js?v=4.0.0&m=1561062905 HTTP/1.1\u001b[0m\" 200 -\n",
      "127.0.0.1 - - [09/Dec/2019 17:52:04] \"\u001b[37mGET /_dash-component-suites/dash_core_components/dash_core_components.min.js?v=1.0.0&m=1563307603 HTTP/1.1\u001b[0m\" 200 -\n",
      "127.0.0.1 - - [09/Dec/2019 17:52:04] \"\u001b[37mGET /_dash-component-suites/dash_core_components/plotly-1.48.3.min.js?v=1.0.0&m=1563307603 HTTP/1.1\u001b[0m\" 200 -\n",
      "127.0.0.1 - - [09/Dec/2019 17:52:05] \"\u001b[37mGET /_dash-dependencies HTTP/1.1\u001b[0m\" 200 -\n",
      "127.0.0.1 - - [09/Dec/2019 17:52:06] \"\u001b[37mGET /_dash-layout HTTP/1.1\u001b[0m\" 200 -\n"
     ]
    }
   ],
   "source": [
    "import pandas as pd\n",
    "import textwrap\n",
    "import dash\n",
    "from dash.dependencies import Input, Output, State\n",
    "import dash_core_components as dcc\n",
    "import dash_html_components as html\n",
    "import dash_bootstrap_components as dbc\n",
    "import plotly.graph_objs as go\n",
    "import dash\n",
    "import dash_core_components as dcc\n",
    "import dash_html_components as html\n",
    "import dash_table as table\n",
    "\n",
    "df = pd.read_excel(\"C:/Users/rp21108/Downloads/Supermarket Transactions.xlsx\",\"Data\")\n",
    "\n",
    "\n",
    "\n",
    "app = dash.Dash()\n",
    "app.scripts.config.serve_locally = True\n",
    "app.css.config.serve_locally = True\n",
    "\n",
    "\n",
    "\n",
    "\n",
    "app.layout = html.Div([\n",
    "    table.DataTable(\n",
    "        columns = [{'name': i, 'id': i} for i in df.columns],\n",
    "        data=df.to_dict('rows'),\n",
    "        tooltip_data=[{\n",
    "                col: str(df.loc[i, col])\n",
    "                for col in df.columns} for i in range(0,df.shape[0])],\n",
    "    )\n",
    "])\n",
    "\n",
    "if __name__ == '__main__':\n",
    "    app.run_server()"
   ]
  },
  {
   "cell_type": "code",
   "execution_count": null,
   "metadata": {},
   "outputs": [],
   "source": []
  }
 ],
 "metadata": {
  "kernelspec": {
   "display_name": "Python 3",
   "language": "python",
   "name": "python3"
  },
  "language_info": {
   "codemirror_mode": {
    "name": "ipython",
    "version": 3
   },
   "file_extension": ".py",
   "mimetype": "text/x-python",
   "name": "python",
   "nbconvert_exporter": "python",
   "pygments_lexer": "ipython3",
   "version": "3.7.3"
  }
 },
 "nbformat": 4,
 "nbformat_minor": 2
}
