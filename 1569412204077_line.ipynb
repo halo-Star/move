{
 "cells": [
  {
   "cell_type": "code",
   "execution_count": 3,
   "metadata": {},
   "outputs": [],
   "source": [
    "import networkx as nx\n",
    "G = nx.read_gpickle('graph_v7.gpickle')\n",
    "dos=nx.get_node_attributes(G,'dosage')\n",
    "lin=nx.get_node_attributes(G,'line')\n",
    "for i in lin.keys():\n",
    "    if lin[i]==None:\n",
    "        lin[i]=\"\"\n",
    "for i in dos.keys():\n",
    "    if dos[i]==None:\n",
    "        dos[i]=\"\""
   ]
  },
  {
   "cell_type": "code",
   "execution_count": null,
   "metadata": {},
   "outputs": [],
   "source": []
  }
 ],
 "metadata": {
  "kernelspec": {
   "display_name": "Python 3",
   "language": "python",
   "name": "python3"
  },
  "language_info": {
   "codemirror_mode": {
    "name": "ipython",
    "version": 3
   },
   "file_extension": ".py",
   "mimetype": "text/x-python",
   "name": "python",
   "nbconvert_exporter": "python",
   "pygments_lexer": "ipython3",
   "version": "3.7.3"
  }
 },
 "nbformat": 4,
 "nbformat_minor": 2
}
