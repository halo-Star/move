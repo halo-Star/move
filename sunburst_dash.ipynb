{
 "cells": [
  {
   "cell_type": "code",
   "execution_count": null,
   "metadata": {},
   "outputs": [
    {
     "name": "stdout",
     "output_type": "stream",
     "text": [
      " * Serving Flask app \"__main__\" (lazy loading)\n",
      " * Environment: production\n",
      "   WARNING: Do not use the development server in a production environment.\n",
      "   Use a production WSGI server instead.\n",
      " * Debug mode: off\n"
     ]
    },
    {
     "name": "stderr",
     "output_type": "stream",
     "text": [
      " * Running on http://127.0.0.1:8050/ (Press CTRL+C to quit)\n",
      "127.0.0.1 - - [04/Dec/2019 15:49:57] \"\u001b[37mGET / HTTP/1.1\u001b[0m\" 200 -\n",
      "127.0.0.1 - - [04/Dec/2019 15:49:57] \"\u001b[37mGET /_dash-component-suites/dash_renderer/react@16.8.6.min.js?v=1.0.0&m=1561062262 HTTP/1.1\u001b[0m\" 200 -\n",
      "127.0.0.1 - - [04/Dec/2019 15:49:57] \"\u001b[37mGET /_dash-component-suites/dash_renderer/prop-types@15.7.2.min.js?v=1.0.0&m=1561062262 HTTP/1.1\u001b[0m\" 200 -\n",
      "127.0.0.1 - - [04/Dec/2019 15:49:57] \"\u001b[37mGET /_dash-component-suites/dash_renderer/react-dom@16.8.6.min.js?v=1.0.0&m=1561062262 HTTP/1.1\u001b[0m\" 200 -\n",
      "127.0.0.1 - - [04/Dec/2019 15:49:57] \"\u001b[37mGET /_dash-component-suites/dash_core_components/highlight.pack.js?v=1.0.0&m=1563307603 HTTP/1.1\u001b[0m\" 200 -\n",
      "127.0.0.1 - - [04/Dec/2019 15:49:57] \"\u001b[37mGET /_dash-component-suites/dash_html_components/dash_html_components.min.js?v=1.0.0&m=1561063963 HTTP/1.1\u001b[0m\" 200 -\n",
      "127.0.0.1 - - [04/Dec/2019 15:49:57] \"\u001b[37mGET /_dash-component-suites/dash_renderer/dash_renderer.min.js?v=1.0.0&m=1561062262 HTTP/1.1\u001b[0m\" 200 -\n",
      "127.0.0.1 - - [04/Dec/2019 15:49:57] \"\u001b[37mGET /_dash-component-suites/dash_core_components/dash_core_components.min.js?v=1.0.0&m=1563307603 HTTP/1.1\u001b[0m\" 200 -\n",
      "127.0.0.1 - - [04/Dec/2019 15:49:57] \"\u001b[37mGET /_dash-component-suites/dash_core_components/plotly-1.48.3.min.js?v=1.0.0&m=1563307603 HTTP/1.1\u001b[0m\" 200 -\n",
      "127.0.0.1 - - [04/Dec/2019 15:49:58] \"\u001b[37mGET /_dash-layout HTTP/1.1\u001b[0m\" 200 -\n",
      "127.0.0.1 - - [04/Dec/2019 15:49:58] \"\u001b[37mGET /_dash-dependencies HTTP/1.1\u001b[0m\" 200 -\n",
      "127.0.0.1 - - [04/Dec/2019 15:49:58] \"\u001b[37mPOST /_dash-update-component HTTP/1.1\u001b[0m\" 200 -\n"
     ]
    },
    {
     "name": "stdout",
     "output_type": "stream",
     "text": [
      "None\n"
     ]
    },
    {
     "name": "stderr",
     "output_type": "stream",
     "text": [
      "127.0.0.1 - - [04/Dec/2019 15:50:00] \"\u001b[37mPOST /_dash-update-component HTTP/1.1\u001b[0m\" 200 -\n"
     ]
    },
    {
     "name": "stdout",
     "output_type": "stream",
     "text": [
      "{'points': [{'curveNumber': 0, 'pointNumber': 0, 'label': 'Eve', 'parent': '', 'value': 10}]}\n"
     ]
    },
    {
     "name": "stderr",
     "output_type": "stream",
     "text": [
      "127.0.0.1 - - [04/Dec/2019 15:50:07] \"\u001b[37mPOST /_dash-update-component HTTP/1.1\u001b[0m\" 200 -\n"
     ]
    },
    {
     "name": "stdout",
     "output_type": "stream",
     "text": [
      "{'points': [{'curveNumber': 0, 'pointNumber': 2, 'label': 'Seth', 'parent': 'Eve', 'value': 12}]}\n"
     ]
    },
    {
     "name": "stderr",
     "output_type": "stream",
     "text": [
      "127.0.0.1 - - [04/Dec/2019 15:50:14] \"\u001b[37mPOST /_dash-update-component HTTP/1.1\u001b[0m\" 200 -\n"
     ]
    },
    {
     "name": "stdout",
     "output_type": "stream",
     "text": [
      "{'points': [{'curveNumber': 0, 'pointNumber': 3, 'label': 'Enos', 'parent': 'Seth', 'value': 10}]}\n"
     ]
    },
    {
     "name": "stderr",
     "output_type": "stream",
     "text": [
      "127.0.0.1 - - [04/Dec/2019 15:50:21] \"\u001b[37mPOST /_dash-update-component HTTP/1.1\u001b[0m\" 200 -\n"
     ]
    },
    {
     "name": "stdout",
     "output_type": "stream",
     "text": [
      "{'points': [{'curveNumber': 0, 'pointNumber': 4, 'label': 'Noam', 'parent': 'Seth', 'value': 2}]}\n"
     ]
    }
   ],
   "source": [
    "import dash\n",
    "from dash.dependencies import Input, Output, State\n",
    "import dash_core_components as dcc\n",
    "import dash_html_components as html\n",
    "import plotly.graph_objs as go\n",
    "app = dash.Dash()\n",
    "app.layout = html.Div([\n",
    "html.Div(id=\"html-div\",children=[dcc.Graph(id=\"sunburst\",figure=go.Figure(go.Sunburst(\n",
    "    labels=[\"Eve\", \"Cain\", \"Seth\", \"Enos\", \"Noam\", \"Abel\", \"Awan\", \"Enoch\", \"Azura\"],\n",
    "    parents=[\"\", \"Eve\", \"Eve\", \"Seth\", \"Seth\", \"Eve\", \"Eve\", \"Awan\", \"Eve\" ],\n",
    "    values=[10, 14, 12, 10, 2, 6, 6, 4, 4],\n",
    ")))]),\n",
    "    html.Div(id='output-data-upload4')\n",
    "])\n",
    "@app.callback(\n",
    "Output('output-data-upload4', 'id'),\n",
    "[Input('html-div', 'n_clicks'),Input('sunburst', 'clickData')],\n",
    "[State('sunburst', 'hoverData')])\n",
    "def value(clicks,cd,hd):\n",
    "    print(hd)\n",
    "    \n",
    "    \n",
    "if __name__ == '__main__':\n",
    "    app.run_server()"
   ]
  },
  {
   "cell_type": "code",
   "execution_count": null,
   "metadata": {},
   "outputs": [],
   "source": [
    "@app.callback(\n",
    "    Output(component_id='output_id', component_property='output_property'),\n",
    "    [Input(component_id='html_div_id', component_property='n_clicks')],\n",
    "    [State(component_id='sunburst_id', component_property='hoverData')]\n",
    ")\n",
    "def callback_func(n_clicks, hoverData):\n",
    "    #function code"
   ]
  }
 ],
 "metadata": {
  "kernelspec": {
   "display_name": "Python 3",
   "language": "python",
   "name": "python3"
  },
  "language_info": {
   "codemirror_mode": {
    "name": "ipython",
    "version": 3
   },
   "file_extension": ".py",
   "mimetype": "text/x-python",
   "name": "python",
   "nbconvert_exporter": "python",
   "pygments_lexer": "ipython3",
   "version": "3.7.3"
  }
 },
 "nbformat": 4,
 "nbformat_minor": 2
}
